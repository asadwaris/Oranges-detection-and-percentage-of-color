{
 "cells": [
  {
   "cell_type": "code",
   "execution_count": 1,
   "metadata": {},
   "outputs": [],
   "source": [
    "# importing libraries"
   ]
  },
  {
   "cell_type": "code",
   "execution_count": 2,
   "metadata": {},
   "outputs": [],
   "source": [
    "import cv2\n",
    "import pandas as pd\n",
    "import numpy as np"
   ]
  },
  {
   "cell_type": "code",
   "execution_count": 3,
   "metadata": {},
   "outputs": [],
   "source": [
    "# # Percentage of orange color\n",
    "\n",
    "import matplotlib.pyplot as plt\n",
    "from matplotlib.colors import hsv_to_rgb"
   ]
  },
  {
   "cell_type": "code",
   "execution_count": 4,
   "metadata": {},
   "outputs": [
    {
     "data": {
      "image/png": "[encoded data removed]",
      "text/plain": [
       "<Figure size 432x288 with 2 Axes>"
      ]
     },
     "metadata": {
      "needs_background": "light"
     },
     "output_type": "display_data"
    }
   ],
   "source": [
    "#defining the range of orange color\n",
    "light_orange = (1, 190, 200)\n",
    "dark_orange = (18, 255, 255)\n",
    "lo_square = np.full((10, 10, 3), light_orange, dtype=np.uint8) / 255.0\n",
    "do_square = np.full((10, 10, 3), dark_orange, dtype=np.uint8) / 255.0\n",
    "plt.subplot(1, 2, 1)\n",
    "plt.imshow(hsv_to_rgb(do_square))\n",
    "plt.xlabel('Light Orange color')\n",
    "plt.subplot(1, 2, 2)\n",
    "plt.imshow(hsv_to_rgb(lo_square))\n",
    "plt.xlabel('Dark Orange color')\n",
    "plt.show()"
   ]
  },
  {
   "cell_type": "code",
   "execution_count": 5,
   "metadata": {},
   "outputs": [],
   "source": [
    "def orange_color_percertage(img,box,show_image=0):\n",
    "    height, width, _ = img.shape\n",
    "    img=cv2.cvtColor(img, cv2.COLOR_BGR2RGB)\n",
    "    for i in box:\n",
    "        if i<0:\n",
    "            box[box.index(i)]=0 \n",
    "    x, y, w, h = box\n",
    "    if x>width:\n",
    "        box[0]=width \n",
    "    if w>width:\n",
    "        box[0]=width\n",
    "    if y>height:\n",
    "        box[0]=height\n",
    "    if h>height:\n",
    "        box[0]=height\n",
    "    image=img[y:y+h, x:x+w] \n",
    "    #img must be in BGR form\n",
    "    grid_HSV = cv2.cvtColor(image, cv2.COLOR_RGB2HSV)\n",
    "    mask= cv2.inRange(grid_HSV, light_orange, dark_orange)\n",
    "    res = cv2.bitwise_and(image, image, mask=mask)\n",
    "    if show_image==1:\n",
    "        #print(\"Orange Part of Image\")\n",
    "        plt.figure(figsize=(20,8))\n",
    "        plt.imshow(res)\n",
    "    return (mask>0).mean()"
   ]
  },
  {
   "cell_type": "code",
   "execution_count": 6,
   "metadata": {},
   "outputs": [],
   "source": [
    "#model and weight initialization\n",
    "configPath = 'ssd_mobilenet_v3_large_coco_2020_01_14.pbtxt'\n",
    "weightsPath = 'frozen_inference_graph.pb'"
   ]
  },
  {
   "cell_type": "code",
   "execution_count": 7,
   "metadata": {},
   "outputs": [],
   "source": [
    "img=cv2.imread('orange.jpg')#image path"
   ]
  },
  {
   "cell_type": "code",
   "execution_count": 8,
   "metadata": {},
   "outputs": [],
   "source": [
    "# detecting oranges (classid=55)\n",
    "net = cv2.dnn_DetectionModel(weightsPath,configPath)\n",
    "net.setInputSize(320,320)\n",
    "net.setInputScale(1.0/ 127.5)\n",
    "net.setInputMean((127.5, 127.5, 127.5))\n",
    "net.setInputSwapRB(True)\n",
    "classIds, confs, bbox = net.detect(img,confThreshold=0.5)\n",
    "for classId, confidence,box in zip(classIds.flatten(),confs.flatten(),bbox):\n",
    "    if classId==55:\n",
    "        img=cv2.rectangle(img,box,color=(0,255,0),thickness=2)\n",
    "        img=cv2.putText(img,\"ORANGE\",(box[0],box[1]-5),\n",
    "                        cv2.FONT_HERSHEY_COMPLEX,1,(0,255,0),1)\n",
    "        img=cv2.putText(img,'% color '+str(round(orange_color_percertage(img,box),2)),(box[0],box[1]+25),\n",
    "                        cv2.FONT_HERSHEY_COMPLEX,1,(0,255,0),1)\n",
    "            "
   ]
  },
  {
   "cell_type": "code",
   "execution_count": 9,
   "metadata": {},
   "outputs": [],
   "source": [
    "#Press ESC to exit\n",
    "while True:\n",
    "    cv2.imshow('my',img)\n",
    "    #cv2.imwrite('orange with color%.png',img)\n",
    "    if cv2.waitKey(1) & 0xFF == 27:\n",
    "        break\n",
    "cv2.destroyAllWindows()"
   ]
  },
  {
   "cell_type": "code",
   "execution_count": 10,
   "metadata": {},
   "outputs": [],
   "source": [
    "# detecting oranges from live videos"
   ]
  },
  {
   "cell_type": "code",
   "execution_count": 16,
   "metadata": {},
   "outputs": [],
   "source": [
    "cap = cv2.VideoCapture(0)\n",
    "cap.set(3,1280)\n",
    "cap.set(4,720)\n",
    "cap.set(10,70)\n",
    "while True:\n",
    "    success,img = cap.read()\n",
    "    classIds, confs, bbox = net.detect(img,confThreshold=0.5)\n",
    "    if len(classIds) != 0:\n",
    "        for classId, confidence,box in zip(classIds.flatten(),confs.flatten(),bbox):\n",
    "            if classId==55:\n",
    "                cv2.rectangle(img,box,color=(0,255,0),thickness=2)\n",
    "                cv2.putText(img,'person',(box[0]+10,box[1]+30),\n",
    "                            cv2.FONT_HERSHEY_COMPLEX,1,(0,255,0),2)\n",
    "                cv2.putText(img,str(round(confidence*100,2)),(box[0]+200,box[1]+30),\n",
    "                            cv2.FONT_HERSHEY_COMPLEX,1,(0,255,0),2)\n",
    "                img=cv2.putText(img,'% color '+str(round(orange_color_percertage(img,box),2)),(box[0],box[1]+25),\n",
    "                            cv2.FONT_HERSHEY_COMPLEX,1,(0,255,0),1)\n",
    "\n",
    "    cv2.imshow(\"Output\",img)\n",
    "    if cv2.waitKey(25) & 0xff == 27:\n",
    "        break\n",
    "cap.release()\n",
    "cv2.destroyAllWindows()"
   ]
  }
 ],
 "metadata": {
  "kernelspec": {
   "display_name": "Python 3",
   "language": "python",
   "name": "python3"
  },
  "language_info": {
   "codemirror_mode": {
    "name": "ipython",
    "version": 3
   },
   "file_extension": ".py",
   "mimetype": "text/x-python",
   "name": "python",
   "nbconvert_exporter": "python",
   "pygments_lexer": "ipython3",
   "version": "3.7.9"
  }
 },
 "nbformat": 4,
 "nbformat_minor": 4
}
